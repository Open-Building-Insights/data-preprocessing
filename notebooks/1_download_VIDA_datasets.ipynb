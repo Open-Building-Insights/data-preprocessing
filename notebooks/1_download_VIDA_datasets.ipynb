{
 "cells": [
  {
   "cell_type": "markdown",
   "metadata": {},
   "source": []
  },
  {
   "cell_type": "markdown",
   "metadata": {},
   "source": [
    "## 1_download_VIDA_datasets\n",
    "### This notebook downloads the building footprint catalog provided by VIDA for a given country in a Parquet format"
   ]
  },
  {
   "cell_type": "markdown",
   "metadata": {},
   "source": [
    "### Initial configuration\n",
    "#### To start working with this particular notebook, you need to provide necessary credential and settings\n",
    "#### Below is an template of configuration, which is necessary prepare aside of this notebook and copy & paste all content in triple quotes to the next cell's input field\n",
    "    \"\"\"\n",
    "    {\n",
    "    \"COS_ENDPOINT_URL\": \"s3.private.eu-de.cloud-object-storage.appdomain.cloud\",\n",
    "    \"COS_AUTH_ENDPOINT_URL\": \"https://iam.cloud.ibm.com/oidc/token\",\n",
    "    \"COS_APIKEY\": \"xxx\",\n",
    "    \"COUNTRY_NAME\": \"Kenya\",\n",
    "    \"VIDA_PARQUET_BUCKET\": \"parquets\"\n",
    "    }\n",
    "    \"\"\"\n"
   ]
  },
  {
   "cell_type": "code",
   "execution_count": null,
   "metadata": {},
   "outputs": [],
   "source": [
    "# Read notebook configuration\n",
    "import getpass\n",
    "import json\n",
    "\n",
    "config_str = getpass.getpass('Enter your prepared config: ')\n",
    "config = json.loads(config_str)"
   ]
  },
  {
   "cell_type": "code",
   "execution_count": null,
   "metadata": {},
   "outputs": [],
   "source": [
    "# Import necessary libraries\n",
    "import requests\n",
    "import os\n",
    "from botocore.client import Config\n",
    "import ibm_boto3"
   ]
  },
  {
   "cell_type": "code",
   "execution_count": null,
   "metadata": {},
   "outputs": [],
   "source": [
    "# countries ISO mapper - Add new countries if needed\n",
    "country_mapper = {\n",
    "    'Kenya': 'KEN',\n",
    "    'India': \"IND\"\n",
    "}"
   ]
  },
  {
   "cell_type": "code",
   "execution_count": null,
   "metadata": {},
   "outputs": [],
   "source": [
    "# init S3 client in order to work with last tiff file version\n",
    "cos_client = ibm_boto3.client(service_name='s3',\n",
    "                              ibm_api_key_id=config[\"COS_APIKEY\"],\n",
    "                              ibm_auth_endpoint=config[\"COS_AUTH_ENDPOINT_URL\"],\n",
    "                              config=Config(signature_version='oauth'),\n",
    "                              endpoint_url=config[\"COS_ENDPOINT_URL\"])"
   ]
  },
  {
   "cell_type": "code",
   "execution_count": null,
   "metadata": {},
   "outputs": [],
   "source": [
    "def download_country_parquet(country:str, directory:str, target_bucket=None) -> None:\n",
    "    '''\n",
    "        This function is aimed for downloading VIDA geoparquets from data.source.coop\n",
    "        Input positional arguments:\n",
    "            1. country -> country name, can be Kenya or India, in case there your desired country isn't present in thin function,\n",
    "            just add a new \"Country name\":\"Country ISO CODE\" pair to the 'country_mapper' dictionary\n",
    "            2. directory -> target directory where desired parquet will be saved\n",
    "            3. target_bucket -> (optional) if defined the downloaded parquet will be uploaded to the bucket assigned to this argumemt\n",
    "        \n",
    "    '''\n",
    "    \n",
    "    # check desired directory existence\n",
    "    if os.path.exists(directory):\n",
    "        print(f'\\033[92mDirectory: \"{directory}\" exists')\n",
    "        \n",
    "    else:\n",
    "        print(f'\\033[93mTarget directory not exists, creating...')\n",
    "        \n",
    "        try:\n",
    "            os.makedirs(directory)\n",
    "            print(f'\\033[92mDirectory \"{directory}\" successfully created')\n",
    "            \n",
    "        except Exception as e:\n",
    "            print(f\"\\033[91mError occurred while creating directory {directory} \\n Error: {str(e)}\")\n",
    "    \n",
    "    # assembly final url\n",
    "    country_iso = country_mapper[country]\n",
    "    url = f'https://data.source.coop/vida/google-microsoft-open-buildings/geoparquet/by_country/country_iso={country_iso}/{country_iso}.parquet'\n",
    "    \n",
    "    # get file size\n",
    "    response = requests.head(url, allow_redirects=True)\n",
    "    size = response.headers.get('content-length', -1)\n",
    "\n",
    "    # size in megabytes\n",
    "    print('FILE SIZE: {:.2f} MB'.format(int(size) / float(1 << 20)))\n",
    "    \n",
    "    # download file\n",
    "    response = requests.get(url)\n",
    "    \n",
    "    if response.status_code == 200:\n",
    "        \n",
    "        filename = f\"{country}.parquet\"\n",
    "        file_path = os.path.join(directory, filename)\n",
    "        with open(file_path, \"wb\") as file:\n",
    "            file.write(response.content)\n",
    "            print(f\"\\033[92mFile: {filename} downloaded successfully!\")\n",
    "    else:\n",
    "        print(\"\\033[91mFailed to download the file.\")\n",
    "    \n",
    "    # optionaly upload file to the bucket\n",
    "    if type(target_bucket) == str:\n",
    "        \n",
    "        try:\n",
    "            cos_client.upload_file(\n",
    "                Filename=file_path,\n",
    "                Bucket=target_bucket,\n",
    "                Key=filename,\n",
    "                ExtraArgs={'ContentDisposition': 'attachment'}\n",
    "            )\n",
    "            \n",
    "            print(f'File {filename} successfully uploaded to the COS {target_bucket} bucket')\n",
    "        except Exception as e:\n",
    "            print(f\"\\033[91mFailed upload file to the bucket {target_bucket}. Error: {e}\")"
   ]
  },
  {
   "cell_type": "code",
   "execution_count": null,
   "metadata": {},
   "outputs": [],
   "source": [
    "download_country_parquet(config[\"COUNTRY_NAME\"], config[\"VIDA_PARQUET_BUCKET\"])"
   ]
  }
 ],
 "metadata": {
  "kernelspec": {
   "display_name": "Python 3",
   "language": "python",
   "name": "python3"
  },
  "language_info": {
   "codemirror_mode": {
    "name": "ipython",
    "version": 3
   },
   "file_extension": ".py",
   "mimetype": "text/x-python",
   "name": "python",
   "nbconvert_exporter": "python",
   "pygments_lexer": "ipython3",
   "version": "3.11.9"
  }
 },
 "nbformat": 4,
 "nbformat_minor": 2
}
